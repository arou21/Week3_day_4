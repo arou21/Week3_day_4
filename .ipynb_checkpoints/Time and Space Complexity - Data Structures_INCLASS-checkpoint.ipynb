{
 "cells": [
  {
   "cell_type": "markdown",
   "metadata": {},
   "source": [
    "# Time/Space Complexity - Intro to Data Structures (User Defined)\n",
    "\n",
    "### Topics to discuss today:\n",
    "\n",
    "<ul>\n",
    "    <li>Time and Space Complexity - What is it/How do we measure it</li>\n",
    "    <li>Asymptotic Analysis</li>\n",
    "    <li><strong>Data Structures</strong></li>\n",
    "    <li>Some of the popular sorting algorithms</li>\n",
    "</ul>\n",
    "\n",
    "### Data Structures to discuss:\n",
    "- Arrays\n",
    "- Stacks\n",
    "- Queues\n",
    "- Linked Lists\n",
    "    - Singly Linked Lists\n",
    "    - Traversing A Linked List\n",
    "    - Finding a node in a linked list\n",
    "    - Adding to a linked list\n"
   ]
  },
  {
   "cell_type": "markdown",
   "metadata": {},
   "source": [
    "## Time and Space Complexity\n",
    "\n",
    "#### What is it?\n",
    "\n",
    "Time and space complexity is the measure of how much time a given action(function) will take to solve a problem. In the same fashion, we determine how much a given data structure will need in terms of memory allocation. A problem can have multiple solutions and finding the optimal solution for the problem needs to be analyzed in time and space.\n",
    "\n",
    "#### How do we measure Time and Space Complexity?\n",
    "\n",
    "In order to measure time and space complexity we use Asymptotic analysis. The reason for this is because we need a way to measure different algorithms (functions) based on the size of their inputs in a mathmatical way. For example, we could have a function that is computed as f(n) and another that is g(n^2). All things around the function staying constant, the only thing that changes is the size of the input. Below is the chart that shows the different Asymptotic analysis formats. "
   ]
  },
  {
   "cell_type": "markdown",
   "metadata": {},
   "source": [
    "<table style=\"text-align:center;\" class=\"table table-bordered\">\n",
    "<tbody><tr>\n",
    "<td>constant</td>\n",
    "<td>−</td>\n",
    "<td>Ο(1)</td>\n",
    "</tr>\n",
    "<tr>\n",
    "<td>logarithmic</td>\n",
    "<td>−</td>\n",
    "<td>Ο(log n)</td>\n",
    "</tr>\n",
    "<tr>\n",
    "<td>linear</td>\n",
    "<td>−</td>\n",
    "<td>Ο(n)</td>\n",
    "</tr>\n",
    "<tr>\n",
    "<td>Linear Logarithmic</td>\n",
    "<td>−</td>\n",
    "<td>Ο(n log n)</td>\n",
    "</tr>\n",
    "<tr>\n",
    "<td>quadratic</td>\n",
    "<td>−</td>\n",
    "<td>Ο(n<sup>2</sup>)</td>\n",
    "</tr>\n",
    "<tr>\n",
    "<td>cubic</td>\n",
    "<td>−</td>\n",
    "<td>Ο(n<sup>3</sup>)</td>\n",
    "</tr>\n",
    "<tr>\n",
    "<td>polynomial</td>\n",
    "<td>−</td>\n",
    "<td>n<sup>Ο(1)</sup></td>\n",
    "</tr>\n",
    "<tr>\n",
    "<td>exponential</td>\n",
    "<td>−</td>\n",
    "<td>2<sup>Ο(n)</sup></td>\n",
    "</tr>\n",
    "</tbody></table>"
   ]
  },
  {
   "cell_type": "markdown",
   "metadata": {},
   "source": [
    "## Arrays"
   ]
  },
  {
   "cell_type": "markdown",
   "metadata": {},
   "source": [
    "In python we benefit from the dynamic array which means the block of memory will expand as needed for the given input to the array. In traditional arrays (depending on the type of operating system) we will usually store our inputs in 4 or 8 consecutive blocks of memory. Below is a diagram of how that looks under the hood:\n",
    "\n",
    "<img src=\"http://www.mathcs.emory.edu/~cheung/Courses/170/Syllabus/09/FIGS/array02x.gif\" style=\"height:250px; width:350px;\">"
   ]
  },
  {
   "cell_type": "markdown",
   "metadata": {},
   "source": [
    "## Which in python looks like this:"
   ]
  },
  {
   "cell_type": "code",
   "execution_count": null,
   "metadata": {},
   "outputs": [],
   "source": []
  },
  {
   "cell_type": "markdown",
   "metadata": {},
   "source": [
    "### Let's take a look at some of the time and space analysis of arrays"
   ]
  },
  {
   "cell_type": "code",
   "execution_count": null,
   "metadata": {},
   "outputs": [],
   "source": []
  },
  {
   "cell_type": "markdown",
   "metadata": {},
   "source": [
    "## Stacks and Queues\n",
    "\n",
    "** Stacks ** as the name suggests is a data structure that allows for data to follow the Last In First Out priciple(LIFO). Think of a stack of pancakes for example. To get the first pancake you would  start with the top and go down.\n",
    "\n",
    "##### Searching through a stack will be Linear Time O(n) - Constant Space O(1)\n",
    "##### Selecting the last item will be done in Constant Time O(1) - Constant Space O(1)\n",
    "##### Adding to the stack should take Constant Time O(1) - Constant Space O(1)\n",
    "\n",
    "** Queues ** are similar but in this case follow the First In First Out principle(FIFO). Think of this as a line in a black friday sale. The first person camped out for the big screen tv is the first to get it.\n",
    "\n",
    "##### Searching through a queue will be Linear Time O(n) - Constant Space O(1)\n",
    "##### Selecting the first item will be done in Constant Time O(1) - Constant Space O(1)\n",
    "##### Adding to the queue should take Constant Time O(1) - Constant Space O(1)"
   ]
  },
  {
   "cell_type": "code",
   "execution_count": null,
   "metadata": {},
   "outputs": [],
   "source": []
  },
  {
   "cell_type": "markdown",
   "metadata": {},
   "source": [
    "## Linked List (Data Structure)\n",
    "\n",
    "A linked list is created by using the node class. We create a Node object and create another class to use this node object. We pass the appropriate values thorugh the node object to point the to the next data elements.\n",
    "\n",
    "There are some advantages and disadvantages with this data structure. **Advantages** Linked Lists can save memory because they can be flexibile with memory management which saves memory. **Disadvantages** Finding or adding to the list requires traversing the entire list."
   ]
  },
  {
   "cell_type": "code",
   "execution_count": 2,
   "metadata": {},
   "outputs": [
    {
     "name": "stdout",
     "output_type": "stream",
     "text": [
      "4\n",
      "7\n",
      "22\n"
     ]
    }
   ],
   "source": [
    "class Node():\n",
    "    def __init__(self, val):\n",
    "        self.value = val\n",
    "        self.next = None\n",
    "\n",
    "    def traverse(self):\n",
    "        node = self\n",
    "        while node != None:\n",
    "            print(node.value)\n",
    "            node = node.next\n",
    "\n",
    "node1 = Node(4)\n",
    "node2 = Node(7)\n",
    "node3 = Node(22)\n",
    "\n",
    "\n",
    "node1.next = node2\n",
    "node2.next = node3\n",
    "\n",
    "\n",
    "node1.traverse()"
   ]
  },
  {
   "cell_type": "code",
   "execution_count": 1,
   "metadata": {},
   "outputs": [
    {
     "ename": "SyntaxError",
     "evalue": "invalid syntax (3009405454.py, line 2)",
     "output_type": "error",
     "traceback": [
      "\u001b[1;36m  File \u001b[1;32m\"C:\\Users\\smaro\\AppData\\Local\\Temp\\ipykernel_27288\\3009405454.py\"\u001b[1;36m, line \u001b[1;32m2\u001b[0m\n\u001b[1;33m    def__init__(self, val):\u001b[0m\n\u001b[1;37m                           ^\u001b[0m\n\u001b[1;31mSyntaxError\u001b[0m\u001b[1;31m:\u001b[0m invalid syntax\n"
     ]
    }
   ],
   "source": [
    "class Node():\n",
    "    def__init__(self, val):\n",
    "        self.value = Val\n",
    "        self.next = None\n",
    "\n",
    "    class LinkedList():\n",
    "        def __init__(self):\n",
    "            self.head = None\n",
    "        \n",
    "    def prepend(self, val):\n",
    "        new_node = Node(val)\n",
    "        new_node.next = self.head\n",
    "        self.head = new_node\n",
    "\n",
    "    def append(self, val):\n",
    "        new_node = Node(val)\n",
    "\n",
    "        if not self.head:\n",
    "            self.head =new_node\n",
    "        else:\n",
    "            last = self.head\n",
    "            while last.next:\n",
    "                last = last.next\n",
    "            last.next = new_node\n",
    "\n",
    "\n",
    "    def insertAfter(self, prev_node, new_value):\n",
    "        #check if previous node exist\n",
    "        if prev_node is None:\n",
    "            print('Invalid position, please try again')\n",
    "        else: \n",
    "            new_node = Node(new_value)\n",
    "\n",
    "            new_node.next - prev_node.next\n",
    "            prev_node.next = new_node\n",
    "\n",
    "    \n",
    "    def traverse(self):\n",
    "        temp = self.head\n",
    "        while temp:\n",
    "            print(temp.value)\n",
    "            temp = temp.next\n",
    "        pass\n"
   ]
  },
  {
   "cell_type": "code",
   "execution_count": null,
   "metadata": {},
   "outputs": [],
   "source": [
    "weekdays = LinkedList()\n",
    "\n",
    "weekdays.prepend('Tues')\n",
    "weekdays.prepend('Wed')\n",
    "weekdays.prepend('Thu')\n",
    "weekdays.prepend('Fri')\n",
    "weekdays.insertAfter(weekdays.head.next.next, \"Thu\")\n",
    "\n",
    "weekdays.traverse()"
   ]
  },
  {
   "cell_type": "markdown",
   "metadata": {},
   "source": [
    "Binary Tree"
   ]
  },
  {
   "cell_type": "code",
   "execution_count": null,
   "metadata": {},
   "outputs": [],
   "source": [
    "class BST():\n",
    "    def__init__(self,):\n",
    "        self.value = Value\n",
    "        self.left = None\n",
    "        self.right = None\n",
    "\n",
    "    def insert(self):\n",
    "        if value < self.value:\n",
    "            #left\n",
    "            if self.left is None:\n",
    "                self.left =BST(val)\n",
    "            else: \n",
    "                self.left.insert(val)\n",
    "        else: \n",
    "            self.right.insert(val)\n",
    "       \n",
    "    def contain(self, target):\n",
    "        if target < self.value:\n",
    "            #left\n",
    "            if self.left is None:\n",
    "                return False\n",
    "            else:\n",
    "                self.left.contains(target)\n",
    "        else: \n",
    "            return True\n",
    "    def getMin(self):\n",
    "       if self.left is None:\n",
    "        return self.value\n",
    "        return slef.left.getMin()\n",
    "    def getMax(self):\n",
    "        if self.right is None:\n",
    "            return self.value\n",
    "        return self.right.getMax()\n",
    "\n",
    "    def remove(self, value, parent=None):\n",
    "        if value < self.value:\n",
    "        #Find\n",
    "            if value < self.value:\n",
    "                #left\n",
    "                if self.left is not None:\n",
    "                    self.left.remove(value, self)\n",
    "            elif value > self.value:\n",
    "                if self.right is not None:\n",
    "                    self.right.remove(value, self)\n",
    "            else:\n",
    "                #found, lets remove\n",
    "                if self.left is not None and self.right is not None:\n",
    "                    self.value = self.right.getMin()\n",
    "                    self.right.remove(self.value, self)\n",
    "                elif parent is None:\n",
    "                    if self.left is not None:\n",
    "                        self.value = self.left.value\n",
    "                        self.right = self.left.right \n",
    "                    elif self.right is not None:\n",
    "                        self.value = self.right.value\n",
    "                        self.left = self.right.left\n",
    "                        self.right =self.right.right\n",
    "                    else:\n",
    "                        self.value = None\n",
    "                elif parent.left == self:\n",
    "                    parent.left =self.left if self.left is not None else self.right \n"
   ]
  },
  {
   "cell_type": "code",
   "execution_count": null,
   "metadata": {},
   "outputs": [],
   "source": [
    "tree = BST(15)\n",
    "tree.insert(10)\n",
    "tree.insert(5)\n",
    "tree.insert(12)\n",
    "tree.insert(14)\n",
    "tree.insert(13)\n",
    "tree.insert(11)\n",
    "tree.insert(20)\n",
    "tree.insert(21)\n",
    "\n",
    "print()"
   ]
  }
 ],
 "metadata": {
  "kernelspec": {
   "display_name": "Python 3 (ipykernel)",
   "language": "python",
   "name": "python3"
  },
  "language_info": {
   "codemirror_mode": {
    "name": "ipython",
    "version": 3
   },
   "file_extension": ".py",
   "mimetype": "text/x-python",
   "name": "python",
   "nbconvert_exporter": "python",
   "pygments_lexer": "ipython3",
   "version": "3.9.13"
  },
  "vscode": {
   "interpreter": {
    "hash": "ea206a9ee426ad8b60095db3eef4f0d945aa3c57f6ac411dabd304d27b960818"
   }
  }
 },
 "nbformat": 4,
 "nbformat_minor": 2
}
